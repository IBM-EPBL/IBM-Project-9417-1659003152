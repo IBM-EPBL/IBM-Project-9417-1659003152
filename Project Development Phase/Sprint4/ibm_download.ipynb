from ibm_watson_machine_learning import APIClient
import tarfile

web_cred={
    "apikey": "k5dhyLxzvxOg0E6KPDSTLtIQgenUGD3loujiRCWrBErK",
	"url": "https://eu-gb.ml.cloud.ibm.com"
}

client=APIClient(web_cred)
